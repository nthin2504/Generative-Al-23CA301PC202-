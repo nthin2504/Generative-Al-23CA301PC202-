{
  "nbformat": 4,
  "nbformat_minor": 0,
  "metadata": {
    "colab": {
      "provenance": [],
      "authorship_tag": "ABX9TyPF0kdlHfJROqlDtJDrc0/T",
      "include_colab_link": true
    },
    "kernelspec": {
      "name": "python3",
      "display_name": "Python 3"
    },
    "language_info": {
      "name": "python"
    }
  },
  "cells": [
    {
      "cell_type": "markdown",
      "metadata": {
        "id": "view-in-github",
        "colab_type": "text"
      },
      "source": [
        "<a href=\"https://colab.research.google.com/github/nthin2504/Generative-Al-23CA301PC202-/blob/main/gen_ai_(ass_1).ipynb\" target=\"_parent\"><img src=\"https://colab.research.google.com/assets/colab-badge.svg\" alt=\"Open In Colab\"/></a>"
      ]
    },
    {
      "source": [
        "Y_actual_1 = [20, 30, 40, 50, 60]\n",
        "Y_pred_1 = [20.5, 30.3, 40.2, 50.6, 60.7]\n",
        "\n",
        "mae = sum(abs(a - p) for a, p in zip(Y_actual_1, Y_pred_1)) / len(Y_actual_1)\n",
        "mse = sum((a - p) ** 2 for a, p in zip(Y_actual_1, Y_pred_1)) / len(Y_actual_1)\n",
        "rmse = mse ** 0.5\n",
        "mape = sum(abs((a - p) / a) for a, p in zip(Y_actual_1, Y_pred_1)) * 100 / len(Y_actual_1)\n",
        "mean_y_actual = sum(Y_actual_1) / len(Y_actual_1)\n",
        "# The formula for R-squared was incorrect. Corrected the formula below:\n",
        "# The sum of squared differences should be calculated separately for the total\n",
        "# and the residual and the multiplication by 2 in each term is removed as it cancels out.\n",
        "r_squared = 1 - (sum((a - p) ** 2 for a, p in zip(Y_actual_1, Y_pred_1)) / sum((a - mean_y_actual) ** 2 for a in Y_actual_1))\n",
        "\n",
        "print(\"Mean Absolute Error (MAE):\", mae)\n",
        "print(\"Mean Squared Error (MSE):\", mse)\n",
        "print(\"Root Mean Squared Error (RMSE):\", rmse)\n",
        "print(\"Mean Absolute Percentage Error (MAPE):\", mape)\n",
        "print(\"R-Squared Value (R^2):\", r_squared)"
      ],
      "cell_type": "code",
      "metadata": {
        "id": "uccj00czquzl",
        "outputId": "75d400ae-5820-4ddb-98b6-9ab5fbd2ebd3",
        "colab": {
          "base_uri": "https://localhost:8080/"
        }
      },
      "execution_count": 2,
      "outputs": [
        {
          "output_type": "stream",
          "name": "stdout",
          "text": [
            "Mean Absolute Error (MAE): 0.4600000000000016\n",
            "Mean Squared Error (MSE): 0.24600000000000147\n",
            "Root Mean Squared Error (RMSE): 0.49598387070549127\n",
            "Mean Absolute Percentage Error (MAPE): 1.2733333333333368\n",
            "R-Squared Value (R^2): 0.99877\n"
          ]
        }
      ]
    }
  ]
}