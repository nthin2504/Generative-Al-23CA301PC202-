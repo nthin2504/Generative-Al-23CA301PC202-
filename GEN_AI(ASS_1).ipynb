{
  "nbformat": 4,
  "nbformat_minor": 0,
  "metadata": {
    "colab": {
      "provenance": [],
      "include_colab_link": true
    },
    "kernelspec": {
      "name": "python3",
      "display_name": "Python 3"
    },
    "language_info": {
      "name": "python"
    }
  },
  "cells": [
    {
      "cell_type": "markdown",
      "metadata": {
        "id": "view-in-github",
        "colab_type": "text"
      },
      "source": [
        "<a href=\"https://colab.research.google.com/github/nthin2504/Generative-Al-23CA301PC202-/blob/main/GEN_AI(ASS_1).ipynb\" target=\"_parent\"><img src=\"https://colab.research.google.com/assets/colab-badge.svg\" alt=\"Open In Colab\"/></a>"
      ]
    },
    {
      "cell_type": "markdown",
      "source": [
        "\n",
        "\n",
        "QUESTION 1\n",
        "\n",
        "---\n",
        "\n",
        "\n",
        "\n"
      ],
      "metadata": {
        "id": "oVjRH6_ASTm9"
      }
    },
    {
      "cell_type": "code",
      "source": [
        "import numpy as np"
      ],
      "metadata": {
        "id": "jwjc9NV6S5Gd"
      },
      "execution_count": null,
      "outputs": []
    },
    {
      "cell_type": "code",
      "source": [
        "y_actual=np.array([20,30,40,50,60])\n",
        "y_predicted=np.array([20.5,30.3,40.2,50.6,60.7])"
      ],
      "metadata": {
        "id": "yAk3tkNlTaDN"
      },
      "execution_count": null,
      "outputs": []
    },
    {
      "cell_type": "code",
      "source": [
        "mse=np.mean((y_actual-y_predicted)**2)\n",
        "mse"
      ],
      "metadata": {
        "colab": {
          "base_uri": "https://localhost:8080/"
        },
        "id": "8EwN-vPLT0ox",
        "outputId": "b04b4e2e-ef80-4604-fb1f-c27721c23cec"
      },
      "execution_count": null,
      "outputs": [
        {
          "output_type": "execute_result",
          "data": {
            "text/plain": [
              "0.24600000000000147"
            ]
          },
          "metadata": {},
          "execution_count": 14
        }
      ]
    },
    {
      "cell_type": "code",
      "source": [
        "rmse=np.sqrt(mse)\n",
        "rmse"
      ],
      "metadata": {
        "colab": {
          "base_uri": "https://localhost:8080/"
        },
        "id": "jogAUV1AUFd8",
        "outputId": "0a214878-2a68-4a0c-8a1d-4169dd5a21b0"
      },
      "execution_count": null,
      "outputs": [
        {
          "output_type": "execute_result",
          "data": {
            "text/plain": [
              "0.49598387070549127"
            ]
          },
          "metadata": {},
          "execution_count": 15
        }
      ]
    },
    {
      "cell_type": "code",
      "source": [
        "mae=np.mean(np.abs(y_actual-y_predicted))\n",
        "mae"
      ],
      "metadata": {
        "colab": {
          "base_uri": "https://localhost:8080/"
        },
        "id": "pc5g-RBtUO7h",
        "outputId": "3e81f39a-18b4-4ac0-b482-b14366d990b6"
      },
      "execution_count": null,
      "outputs": [
        {
          "output_type": "execute_result",
          "data": {
            "text/plain": [
              "0.4600000000000016"
            ]
          },
          "metadata": {},
          "execution_count": 16
        }
      ]
    },
    {
      "cell_type": "code",
      "source": [
        "mean_actual = np.mean(y_actual)\n",
        "sst = np.sum((y_actual - mean_actual) ** 2)\n",
        "rss = np.sum((y_actual - y_predicted) ** 2)\n",
        "r2error = 1 - (rss / sst)\n",
        "r2error\n"
      ],
      "metadata": {
        "colab": {
          "base_uri": "https://localhost:8080/"
        },
        "id": "tPFkl79OUXt6",
        "outputId": "ff1c93cf-8a1c-4529-804c-31a567bdb59c"
      },
      "execution_count": null,
      "outputs": [
        {
          "output_type": "execute_result",
          "data": {
            "text/plain": [
              "0.99877"
            ]
          },
          "metadata": {},
          "execution_count": 18
        }
      ]
    },
    {
      "cell_type": "markdown",
      "source": [
        "\n",
        "\n",
        "---\n",
        "\n",
        "                                          \n",
        "                                           \n",
        "                                            Question-2"
      ],
      "metadata": {
        "id": "vJ0usPUsVCjd"
      }
    },
    {
      "source": [
        "from sklearn.metrics import accuracy_score, precision_score, recall_score, f1_score, classification_report\n",
        "import numpy as np\n",
        "\n",
        "Y_actual = [0, 0, 1, 1, 2, 0, 0, 1, 0, 2, 0, 2, 1, 2, 2]\n",
        "Y_pred = [0, 1, 0, 2, 0, 2, 1, 2, 2, 2, 1, 0, 2, 2, 2]\n",
        "\n",
        "def calculate_metrics(y_true, y_pred):\n",
        "    classes = set(y_true)\n",
        "    metrics = {\"accuracy\": None, \"precision\": {}, \"recall\": {}, \"f1_score\": {}} # Corrected indentation\n",
        "\n",
        "    correct_predictions = sum([1 for actual, pred in zip(y_true, y_pred) if actual == pred])\n",
        "    metrics[\"accuracy\"] = correct_predictions / len(y_true) # Corrected indentation\n",
        "\n",
        "    for c in classes:\n",
        "        tp = sum([1 for actual, pred in zip(y_true, y_pred) if actual == c and pred == c])\n",
        "        fp = sum([1 for actual, pred in zip(y_true, y_pred) if actual != c and pred == c])\n",
        "        fn = sum([1 for actual, pred in zip(y_true, y_pred) if actual == c and pred != c])\n",
        "\n",
        "        precision = tp / (tp + fp) if (tp + fp) > 0 else 0\n",
        "        recall = tp / (tp + fn) if (tp + fn) > 0 else 0\n",
        "        f1 = 2 * (precision * recall) / (precision + recall) if (precision + recall) > 0 else 0\n",
        "\n",
        "        metrics[\"precision\"][c] = precision\n",
        "        metrics[\"recall\"][c] = recall\n",
        "        metrics[\"f1_score\"][c] = f1\n",
        "\n",
        "    return metrics # Corrected indentation\n",
        "\n",
        "scratch_metrics = calculate_metrics(Y_actual, Y_pred)\n",
        "\n",
        "accuracy = accuracy_score(Y_actual, Y_pred)\n",
        "precision = precision_score(Y_actual, Y_pred, average=None, zero_division=0)\n",
        "recall = recall_score(Y_actual, Y_pred, average=None, zero_division=0)\n",
        "f1 = f1_score(Y_actual, Y_pred, average=None, zero_division=0)\n",
        "\n",
        "print(\"Metrics calculated from scratch:\")\n",
        "print(f\"Accuracy: {scratch_metrics['accuracy']}\")\n",
        "print(f\"Precision: {scratch_metrics['precision']}\")\n",
        "print(f\"Recall: {scratch_metrics['recall']}\")\n",
        "print(f\"F1 Score: {scratch_metrics['f1_score']}\")\n",
        "\n",
        "print(\"\\nMetrics calculated using libraries:\")\n",
        "print(f\"Accuracy: {accuracy}\")\n",
        "print(f\"Precision: {dict(enumerate(precision))}\")\n",
        "print(f\"Recall: {dict(enumerate(recall))}\")\n",
        "print(f\"F1 Score: {dict(enumerate(f1))}\")"
      ],
      "cell_type": "code",
      "metadata": {
        "colab": {
          "base_uri": "https://localhost:8080/"
        },
        "id": "tdN4DL7xXDc2",
        "outputId": "132850cf-5835-4c28-8e47-b0c889af90f8"
      },
      "execution_count": null,
      "outputs": [
        {
          "output_type": "stream",
          "name": "stdout",
          "text": [
            "Metrics calculated from scratch:\n",
            "Accuracy: 0.26666666666666666\n",
            "Precision: {0: 0.25, 1: 0.0, 2: 0.375}\n",
            "Recall: {0: 0.16666666666666666, 1: 0.0, 2: 0.6}\n",
            "F1 Score: {0: 0.2, 1: 0, 2: 0.4615384615384615}\n",
            "\n",
            "Metrics calculated using libraries:\n",
            "Accuracy: 0.26666666666666666\n",
            "Precision: {0: 0.25, 1: 0.0, 2: 0.375}\n",
            "Recall: {0: 0.16666666666666666, 1: 0.0, 2: 0.6}\n",
            "F1 Score: {0: 0.2, 1: 0.0, 2: 0.46153846153846156}\n"
          ]
        }
      ]
    }
  ]
}